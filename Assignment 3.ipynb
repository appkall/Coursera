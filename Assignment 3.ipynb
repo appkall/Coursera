{
 "cells": [
  {
   "cell_type": "markdown",
   "metadata": {},
   "source": [
    "---\n",
    "\n",
    "_You are currently looking at **version 1.5** of this notebook. To download notebooks and datafiles, as well as get help on Jupyter notebooks in the Coursera platform, visit the [Jupyter Notebook FAQ](https://www.coursera.org/learn/python-data-analysis/resources/0dhYG) course resource._\n",
    "\n",
    "---"
   ]
  },
  {
   "cell_type": "markdown",
   "metadata": {},
   "source": [
    "# Assignment 3 - More Pandas\n",
    "This assignment requires more individual learning then the last one did - you are encouraged to check out the [pandas documentation](http://pandas.pydata.org/pandas-docs/stable/) to find functions or methods you might not have used yet, or ask questions on [Stack Overflow](http://stackoverflow.com/) and tag them as pandas and python related. And of course, the discussion forums are open for interaction with your peers and the course staff."
   ]
  },
  {
   "cell_type": "markdown",
   "metadata": {},
   "source": [
    "### Question 1 (20%)\n",
    "Load the energy data from the file `Energy Indicators.xls`, which is a list of indicators of [energy supply and renewable electricity production](Energy%20Indicators.xls) from the [United Nations](http://unstats.un.org/unsd/environment/excel_file_tables/2013/Energy%20Indicators.xls) for the year 2013, and should be put into a DataFrame with the variable name of **energy**.\n",
    "\n",
    "Keep in mind that this is an Excel file, and not a comma separated values file. Also, make sure to exclude the footer and header information from the datafile. The first two columns are unneccessary, so you should get rid of them, and you should change the column labels so that the columns are:\n",
    "\n",
    "`['Country', 'Energy Supply', 'Energy Supply per Capita', '% Renewable']`\n",
    "\n",
    "Convert `Energy Supply` to gigajoules (there are 1,000,000 gigajoules in a petajoule). For all countries which have missing data (e.g. data with \"...\") make sure this is reflected as `np.NaN` values.\n",
    "\n",
    "Rename the following list of countries (for use in later questions):\n",
    "\n",
    "```\"Republic of Korea\": \"South Korea\",\n",
    "\"United States of America\": \"United States\",\n",
    "\"United Kingdom of Great Britain and Northern Ireland\": \"United Kingdom\",\n",
    "\"China, Hong Kong Special Administrative Region\": \"Hong Kong\"```\n",
    "\n",
    "There are also several countries with numbers and/or parenthesis in their name. Be sure to remove these, \n",
    "\n",
    "e.g. \n",
    "\n",
    "`'Bolivia (Plurinational State of)'` should be `'Bolivia'`, \n",
    "\n",
    "`'Switzerland17'` should be `'Switzerland'`.\n",
    "\n",
    "<br>\n",
    "\n",
    "Next, load the GDP data from the file `world_bank.csv`, which is a csv containing countries' GDP from 1960 to 2015 from [World Bank](http://data.worldbank.org/indicator/NY.GDP.MKTP.CD). Call this DataFrame **GDP**. \n",
    "\n",
    "Make sure to skip the header, and rename the following list of countries:\n",
    "\n",
    "```\"Korea, Rep.\": \"South Korea\", \n",
    "\"Iran, Islamic Rep.\": \"Iran\",\n",
    "\"Hong Kong SAR, China\": \"Hong Kong\"```\n",
    "\n",
    "<br>\n",
    "\n",
    "Finally, load the [Sciamgo Journal and Country Rank data for Energy Engineering and Power Technology](http://www.scimagojr.com/countryrank.php?category=2102) from the file `scimagojr-3.xlsx`, which ranks countries based on their journal contributions in the aforementioned area. Call this DataFrame **ScimEn**.\n",
    "\n",
    "Join the three datasets: GDP, Energy, and ScimEn into a new dataset (using the intersection of country names). Use only the last 10 years (2006-2015) of GDP data and only the top 15 countries by Scimagojr 'Rank' (Rank 1 through 15). \n",
    "\n",
    "The index of this DataFrame should be the name of the country, and the columns should be ['Rank', 'Documents', 'Citable documents', 'Citations', 'Self-citations',\n",
    "       'Citations per document', 'H index', 'Energy Supply',\n",
    "       'Energy Supply per Capita', '% Renewable', '2006', '2007', '2008',\n",
    "       '2009', '2010', '2011', '2012', '2013', '2014', '2015'].\n",
    "\n",
    "\n",
    "*This function should return a DataFrame with 20 columns and 15 entries.*"
   ]
  },
  {
   "cell_type": "code",
   "execution_count": 1,
   "metadata": {},
   "outputs": [],
   "source": [
    "import pandas as pd\n",
    "import numpy as np"
   ]
  },
  {
   "cell_type": "code",
   "execution_count": 2,
   "metadata": {
    "jupyter": {
     "outputs_hidden": false
    }
   },
   "outputs": [],
   "source": [
    "def answer_one():\n",
    "    \n",
    "    #energy = pd.read_excel('Energy Indicators.xls', header=None, parse_cols=[2,3,4,5,6], skiprows=18, skipfooter=38, na_values='...')\n",
    "    energy = pd.read_excel('Energy Indicators.xls', header=None, usecols=[2,3,4,5,6], skiprows=18, skipfooter=38, na_values='...')\n",
    "    energy.columns = ['Country', 'Energy Supply', 'Energy Supply per Capita', '% Renewable']\n",
    "    energy['Energy Supply'] = energy['Energy Supply'] * 1000000\n",
    "    energy['Country'] = energy['Country'].str.replace('\\d+', '')\n",
    "    energy['Country'] = energy['Country'].str.replace('\\s\\(([^)]+)\\)', '')\n",
    "    replace = energy.loc[energy['Country'].str.startswith(\"Republic of Korea\")].index[0]\n",
    "    energy.at[replace, 'Country'] = \"South Korea\"\n",
    "    replace = energy.loc[energy['Country'].str.startswith(\"United States of America\")].index[0]\n",
    "    energy.at[replace, 'Country'] = \"United States\"\n",
    "    replace = energy.loc[energy['Country'].str.startswith(\"United Kingdom of Great Britain and Northern Ireland\")].index[0]\n",
    "    energy.at[replace, 'Country'] = \"United Kingdom\"\n",
    "    replace = energy.loc[energy['Country'].str.startswith(\"China, Hong Kong Special Administrative Region\")].index[0]\n",
    "    energy.at[replace, 'Country'] = \"Hong Kong\"\n",
    "    \n",
    "    GDP = pd.read_csv('world_bank.csv', header=4)\n",
    "    replace = GDP.loc[GDP['Country Name'].str.startswith(\"Korea, Rep.\")].index[0]\n",
    "    GDP.at[replace, 'Country Name'] = \"South Korea\"\n",
    "    replace = GDP.loc[GDP['Country Name'].str.startswith(\"Iran, Islamic Rep.\")].index[0]\n",
    "    GDP.at[replace, 'Country Name'] = \"Iran\"\n",
    "    replace = GDP.loc[GDP['Country Name'].str.startswith(\"Hong Kong SAR, China\")].index[0]\n",
    "    GDP.at[replace, 'Country Name'] = \"Hong Kong\"\n",
    "    GDP = GDP[['Country Name', '2006', '2007', '2008', '2009', '2010', '2011', '2012', '2013', '2014', '2015']]\n",
    "    GDP.rename(columns={'Country Name':'Country'}, inplace=True)\n",
    "    \n",
    "    ScimEn = pd.read_excel('scimagojr-3.xlsx')\n",
    "    \n",
    "    Combined = pd.merge(ScimEn, energy, left_on='Country', right_on='Country')\n",
    "    Combined = pd.merge(Combined, GDP, left_on='Country', right_on='Country')\n",
    "    Combined = Combined.set_index('Country')\n",
    "    answer1 = Combined[(Combined['Rank'] < 16)]\n",
    "    return answer1"
   ]
  },
  {
   "cell_type": "markdown",
   "metadata": {},
   "source": [
    "### Question 2 (6.6%)\n",
    "The previous question joined three datasets then reduced this to just the top 15 entries. When you joined the datasets, but before you reduced this to the top 15 items, how many entries did you lose?\n",
    "\n",
    "*This function should return a single number.*"
   ]
  },
  {
   "cell_type": "code",
   "execution_count": 3,
   "metadata": {
    "jupyter": {
     "outputs_hidden": false
    }
   },
   "outputs": [
    {
     "output_type": "display_data",
     "data": {
      "text/plain": "<IPython.core.display.HTML object>",
      "text/html": "<svg width=\"800\" height=\"300\">\n  <circle cx=\"150\" cy=\"180\" r=\"80\" fill-opacity=\"0.2\" stroke=\"black\" stroke-width=\"2\" fill=\"blue\" />\n  <circle cx=\"200\" cy=\"100\" r=\"80\" fill-opacity=\"0.2\" stroke=\"black\" stroke-width=\"2\" fill=\"red\" />\n  <circle cx=\"100\" cy=\"100\" r=\"80\" fill-opacity=\"0.2\" stroke=\"black\" stroke-width=\"2\" fill=\"green\" />\n  <line x1=\"150\" y1=\"125\" x2=\"300\" y2=\"150\" stroke=\"black\" stroke-width=\"2\" fill=\"black\" stroke-dasharray=\"5,3\"/>\n  <text  x=\"300\" y=\"165\" font-family=\"Verdana\" font-size=\"35\">Everything but this!</text>\n</svg>\n"
     },
     "metadata": {}
    }
   ],
   "source": [
    "%%HTML\n",
    "<svg width=\"800\" height=\"300\">\n",
    "  <circle cx=\"150\" cy=\"180\" r=\"80\" fill-opacity=\"0.2\" stroke=\"black\" stroke-width=\"2\" fill=\"blue\" />\n",
    "  <circle cx=\"200\" cy=\"100\" r=\"80\" fill-opacity=\"0.2\" stroke=\"black\" stroke-width=\"2\" fill=\"red\" />\n",
    "  <circle cx=\"100\" cy=\"100\" r=\"80\" fill-opacity=\"0.2\" stroke=\"black\" stroke-width=\"2\" fill=\"green\" />\n",
    "  <line x1=\"150\" y1=\"125\" x2=\"300\" y2=\"150\" stroke=\"black\" stroke-width=\"2\" fill=\"black\" stroke-dasharray=\"5,3\"/>\n",
    "  <text  x=\"300\" y=\"165\" font-family=\"Verdana\" font-size=\"35\">Everything but this!</text>\n",
    "</svg>"
   ]
  },
  {
   "cell_type": "code",
   "execution_count": 4,
   "metadata": {
    "jupyter": {
     "outputs_hidden": false
    }
   },
   "outputs": [],
   "source": [
    "def answer_two():\n",
    "    \n",
    "    #energy = pd.read_excel('Energy Indicators.xls', header=None, parse_cols=[2,3,4,5,6], skiprows=18, skipfooter=38, na_values='...')\n",
    "    energy = pd.read_excel('Energy Indicators.xls', header=None, usecols=[2,3,4,5,6], skiprows=18, skipfooter=38, na_values='...')\n",
    "    energy.columns = ['Country', 'Energy Supply', 'Energy Supply per Capita', '% Renewable']\n",
    "    energy['Energy Supply'] = energy['Energy Supply'] * 1000000\n",
    "    energy['Country'] = energy['Country'].str.replace('\\d+', '')\n",
    "    energy['Country'] = energy['Country'].str.replace('\\s\\(([^)]+)\\)', '')\n",
    "    replace = energy.loc[energy['Country'].str.startswith(\"Republic of Korea\")].index[0]\n",
    "    energy.at[replace, 'Country'] = \"South Korea\"\n",
    "    replace = energy.loc[energy['Country'].str.startswith(\"United States of America\")].index[0]\n",
    "    energy.at[replace, 'Country'] = \"United States\"\n",
    "    replace = energy.loc[energy['Country'].str.startswith(\"United Kingdom of Great Britain and Northern Ireland\")].index[0]\n",
    "    energy.at[replace, 'Country'] = \"United Kingdom\"\n",
    "    replace = energy.loc[energy['Country'].str.startswith(\"China, Hong Kong Special Administrative Region\")].index[0]\n",
    "    energy.at[replace, 'Country'] = \"Hong Kong\"\n",
    "    \n",
    "    GDP = pd.read_csv('world_bank.csv', header=4)\n",
    "    replace = GDP.loc[GDP['Country Name'].str.startswith(\"Korea, Rep.\")].index[0]\n",
    "    GDP.at[replace, 'Country Name'] = \"South Korea\"\n",
    "    replace = GDP.loc[GDP['Country Name'].str.startswith(\"Iran, Islamic Rep.\")].index[0]\n",
    "    GDP.at[replace, 'Country Name'] = \"Iran\"\n",
    "    replace = GDP.loc[GDP['Country Name'].str.startswith(\"Hong Kong SAR, China\")].index[0]\n",
    "    GDP.at[replace, 'Country Name'] = \"Hong Kong\"\n",
    "    GDP = GDP[['Country Name', '2006', '2007', '2008', '2009', '2010', '2011', '2012', '2013', '2014', '2015']]\n",
    "    GDP.rename(columns={'Country Name':'Country'}, inplace=True)\n",
    "    \n",
    "    ScimEn = pd.read_excel('scimagojr-3.xlsx')\n",
    "    \n",
    "    Combined = pd.merge(ScimEn, energy, left_on='Country', right_on='Country')\n",
    "    Combined = pd.merge(Combined, GDP, left_on='Country', right_on='Country')\n",
    "    Combined = Combined.set_index('Country')\n",
    "    \n",
    "    Combined1_2 = pd.merge(ScimEn, energy, on='Country', how='outer')\n",
    "    Combined2 = pd.merge(Combined1_2, GDP, on='Country', how='outer')\n",
    "    answer2 = len(Combined2) - len(Combined)\n",
    "    return answer2"
   ]
  },
  {
   "cell_type": "markdown",
   "metadata": {},
   "source": [
    "<br>\n",
    "\n",
    "Answer the following questions in the context of only the top 15 countries by Scimagojr Rank (aka the DataFrame returned by `answer_one()`)"
   ]
  },
  {
   "cell_type": "markdown",
   "metadata": {},
   "source": [
    "### Question 3 (6.6%)\n",
    "What is the average GDP over the last 10 years for each country? (exclude missing values from this calculation.)\n",
    "\n",
    "*This function should return a Series named `avgGDP` with 15 countries and their average GDP sorted in descending order.*"
   ]
  },
  {
   "cell_type": "code",
   "execution_count": 5,
   "metadata": {
    "jupyter": {
     "outputs_hidden": false
    },
    "scrolled": true
   },
   "outputs": [],
   "source": [
    "def answer_three():\n",
    "    \n",
    "    Top15 = answer_one()\n",
    "    t3 = Top15[['2006', '2007', '2008', '2009', '2010', '2011', '2012', '2013', '2014', '2015']]\n",
    "    avgGDP = pd.Series(index=t3.index)\n",
    "    \n",
    "    for country in avgGDP.index :\n",
    "        avgGDP[country] = np.average(t3.loc[country].dropna())\n",
    "    \n",
    "    answer3 = avgGDP.sort_values(ascending=False)\n",
    "    return answer3"
   ]
  },
  {
   "cell_type": "markdown",
   "metadata": {},
   "source": [
    "### Question 4 (6.6%)\n",
    "By how much had the GDP changed over the 10 year span for the country with the 6th largest average GDP?\n",
    "\n",
    "*This function should return a single number.*"
   ]
  },
  {
   "cell_type": "code",
   "execution_count": 6,
   "metadata": {
    "jupyter": {
     "outputs_hidden": false
    },
    "scrolled": true
   },
   "outputs": [],
   "source": [
    "def answer_four():\n",
    "    \n",
    "    Top15 = answer_one()\n",
    "    problem_4 = answer_three().index[5]\n",
    "    answer4 = Top15.loc[problem_4]['2015'] -  Top15.loc[problem_4]['2006']\n",
    "    return answer4"
   ]
  },
  {
   "cell_type": "markdown",
   "metadata": {},
   "source": [
    "### Question 5 (6.6%)\n",
    "What is the mean `Energy Supply per Capita`?\n",
    "\n",
    "*This function should return a single number.*"
   ]
  },
  {
   "cell_type": "code",
   "execution_count": 7,
   "metadata": {
    "jupyter": {
     "outputs_hidden": false
    }
   },
   "outputs": [],
   "source": [
    "def answer_five():\n",
    "    Top15 = answer_one()\n",
    "    answer5 = np.mean(Top15['Energy Supply per Capita'])\n",
    "    return answer5"
   ]
  },
  {
   "cell_type": "markdown",
   "metadata": {},
   "source": [
    "### Question 6 (6.6%)\n",
    "What country has the maximum % Renewable and what is the percentage?\n",
    "\n",
    "*This function should return a tuple with the name of the country and the percentage.*"
   ]
  },
  {
   "cell_type": "code",
   "execution_count": 8,
   "metadata": {
    "jupyter": {
     "outputs_hidden": false
    }
   },
   "outputs": [],
   "source": [
    "def answer_six():\n",
    "    \n",
    "    Top15 = answer_one()\n",
    "    answer_6 = np.max(Top15['% Renewable'])\n",
    "    country_6 = Top15[Top15['% Renewable'] == answer_6].index[0]\n",
    "    answer6 = (country_6, answer_6)\n",
    "    return answer6"
   ]
  },
  {
   "cell_type": "markdown",
   "metadata": {},
   "source": [
    "### Question 7 (6.6%)\n",
    "Create a new column that is the ratio of Self-Citations to Total Citations. \n",
    "What is the maximum value for this new column, and what country has the highest ratio?\n",
    "\n",
    "*This function should return a tuple with the name of the country and the ratio.*"
   ]
  },
  {
   "cell_type": "code",
   "execution_count": 9,
   "metadata": {},
   "outputs": [],
   "source": [
    "def answer_seven():\n",
    "    \n",
    "    Top15 = answer_one()\n",
    "    Top15['Ratio'] = (Top15['Self-citations'] / Top15['Citations'])\n",
    "    answer_7 = np.max(Top15['Ratio'])\n",
    "    country_7 = Top15[Top15['Ratio'] == answer_7].index[0]\n",
    "    answer7 = (country_7, answer_7)\n",
    "    return answer7"
   ]
  },
  {
   "cell_type": "markdown",
   "metadata": {},
   "source": [
    "### Question 8 (6.6%)\n",
    "\n",
    "Create a column that estimates the population using Energy Supply and Energy Supply per capita. \n",
    "What is the third most populous country according to this estimate?\n",
    "\n",
    "*This function should return a single string value.*"
   ]
  },
  {
   "cell_type": "code",
   "execution_count": 10,
   "metadata": {},
   "outputs": [],
   "source": [
    "def answer_eight():\n",
    "\n",
    "    Top15 = answer_one()\n",
    "    Top15['Est. Population'] = (Top15['Energy Supply'] / Top15['Energy Supply per Capita'])\n",
    "    Top15 = Top15.sort_values(by=['Est. Population'], ascending=False)\n",
    "    answer8 = Top15.index[2]\n",
    "    return answer8"
   ]
  },
  {
   "cell_type": "markdown",
   "metadata": {},
   "source": [
    "### Question 9 (6.6%)\n",
    "Create a column that estimates the number of citable documents per person. \n",
    "What is the correlation between the number of citable documents per capita and the energy supply per capita? Use the `.corr()` method, (Pearson's correlation).\n",
    "\n",
    "*This function should return a single number.*\n",
    "\n",
    "*(Optional: Use the built-in function `plot9()` to visualize the relationship between Energy Supply per Capita vs. Citable docs per Capita)*"
   ]
  },
  {
   "cell_type": "code",
   "execution_count": 11,
   "metadata": {},
   "outputs": [],
   "source": [
    "def answer_nine():\n",
    "    Top15 = answer_one()\n",
    "    Top15['Est. Population'] = (Top15['Energy Supply'] / Top15['Energy Supply per Capita'])\n",
    "    Top15['Citable documents per Person'] = (Top15['Citable documents'] / Top15['Est. Population'])\n",
    "    answer9 = Top15.corr(method='pearson')\n",
    "    answer9 = answer9['Citable documents per Person']['Energy Supply per Capita']\n",
    "    return answer9"
   ]
  },
  {
   "cell_type": "code",
   "execution_count": 12,
   "metadata": {
    "jupyter": {
     "outputs_hidden": false
    }
   },
   "outputs": [],
   "source": [
    "def plot9():\n",
    "    import matplotlib as plt\n",
    "    %matplotlib inline\n",
    "    \n",
    "    Top15 = answer_one()\n",
    "    Top15['PopEst'] = Top15['Energy Supply'] / Top15['Energy Supply per Capita']\n",
    "    Top15['Citable docs per Capita'] = Top15['Citable documents'] / Top15['PopEst']\n",
    "    Top15.plot(x='Citable docs per Capita', y='Energy Supply per Capita', kind='scatter', xlim=[0, 0.0006])"
   ]
  },
  {
   "cell_type": "code",
   "execution_count": 13,
   "metadata": {
    "jupyter": {
     "outputs_hidden": false
    }
   },
   "outputs": [],
   "source": [
    "#plot9() # Be sure to comment out plot9() before submitting the assignment!"
   ]
  },
  {
   "cell_type": "markdown",
   "metadata": {},
   "source": [
    "### Question 10 (6.6%)\n",
    "Create a new column with a 1 if the country's % Renewable value is at or above the median for all countries in the top 15, and a 0 if the country's % Renewable value is below the median.\n",
    "\n",
    "*This function should return a series named `HighRenew` whose index is the country name sorted in ascending order of rank.*"
   ]
  },
  {
   "cell_type": "code",
   "execution_count": 14,
   "metadata": {},
   "outputs": [],
   "source": [
    "def answer_ten() :\n",
    "    Top15 = answer_one()\n",
    "    median = int(np.median(Top15['% Renewable']))\n",
    "    Top15 = Top15.sort_values(by=['Rank'], ascending=False)\n",
    "    Top15['HighRenew'] = 0\n",
    "    HighRenew = pd.Series(index=Top15.index)\n",
    "    \n",
    "    for country in HighRenew.index :\n",
    "        \n",
    "        if Top15.loc[country]['% Renewable'] > median :\n",
    "            Top15.at[country, 'HighRenew'] = 1\n",
    "            HighRenew[country] = int(1)\n",
    "            \n",
    "        else :\n",
    "            Top15.at[country, 'HighRenew'] = 0\n",
    "            HighRenew[country] = int(0)\n",
    "\n",
    "    HighRenew = HighRenew.astype(int)           \n",
    "    answer10 = HighRenew\n",
    "    return answer10"
   ]
  },
  {
   "cell_type": "markdown",
   "metadata": {},
   "source": [
    "### Question 11 (6.6%)\n",
    "Use the following dictionary to group the Countries by Continent, then create a dateframe that displays the sample size (the number of countries in each continent bin), and the sum, mean, and std deviation for the estimated population of each country.\n",
    "\n",
    "```python\n",
    "ContinentDict  = {'China':'Asia', \n",
    "                  'United States':'North America', \n",
    "                  'Japan':'Asia', \n",
    "                  'United Kingdom':'Europe', \n",
    "                  'Russian Federation':'Europe', \n",
    "                  'Canada':'North America', \n",
    "                  'Germany':'Europe', \n",
    "                  'India':'Asia',\n",
    "                  'France':'Europe', \n",
    "                  'South Korea':'Asia', \n",
    "                  'Italy':'Europe', \n",
    "                  'Spain':'Europe', \n",
    "                  'Iran':'Asia',\n",
    "                  'Australia':'Australia', \n",
    "                  'Brazil':'South America'}\n",
    "```\n",
    "\n",
    "*This function should return a DataFrame with index named Continent `['Asia', 'Australia', 'Europe', 'North America', 'South America']` and columns `['size', 'sum', 'mean', 'std']`*"
   ]
  },
  {
   "cell_type": "code",
   "execution_count": 15,
   "metadata": {
    "tags": []
   },
   "outputs": [],
   "source": [
    "def answer_eleven():\n",
    "    \n",
    "    Top15 = answer_one()\n",
    "    Top15['Est. Population'] = (Top15['Energy Supply'] / Top15['Energy Supply per Capita'])\n",
    "    ContinentDict  = {'China':'Asia', \n",
    "                    'United States':'North America',\n",
    "                    'Japan':'Asia',\n",
    "                    'United Kingdom':'Europe',\n",
    "                    'Russian Federation':'Europe',\n",
    "                    'Canada':'North America',\n",
    "                    'Germany':'Europe',\n",
    "                    'India':'Asia',\n",
    "                    'France':'Europe',\n",
    "                    'South Korea':'Asia',\n",
    "                    'Italy':'Europe',\n",
    "                    'Spain':'Europe',\n",
    "                    'Iran':'Asia',\n",
    "                    'Australia':'Australia',\n",
    "                    'Brazil':'South America'}\n",
    "    ContinentDict = pd.Series(ContinentDict)\n",
    "    Top15['Continent'] = str\n",
    "    \n",
    "    for country in ContinentDict.index :\n",
    "        Top15.at[country, 'Continent'] = ContinentDict[country]\n",
    "        \n",
    "    Continent = pd.DataFrame(0, index=['Asia', 'Australia', 'Europe', 'North America', 'South America'], columns=['size', 'sum', 'mean', 'std'])\n",
    "    Top15 = Top15[['Est. Population', 'Continent']]\n",
    "    Continent['size'] = Top15.groupby(['Continent']).count()\n",
    "    Continent['sum'] = Top15.groupby(['Continent']).agg([np.sum])\n",
    "    Continent['mean'] = Top15.groupby(['Continent']).agg([np.mean])\n",
    "    Continent['std'] = Top15.groupby(['Continent']).agg([np.std])\n",
    "    Continent['size'] = Continent['size'].astype(float)\n",
    "    answer11 = Continent\n",
    "    return answer11"
   ]
  },
  {
   "cell_type": "markdown",
   "metadata": {},
   "source": [
    "### Question 12 (6.6%)\n",
    "Cut % Renewable into 5 bins. Group Top15 by the Continent, as well as these new % Renewable bins. How many countries are in each of these groups?\n",
    "\n",
    "*This function should return a __Series__ with a MultiIndex of `Continent`, then the bins for `% Renewable`. Do not include groups with no countries.*"
   ]
  },
  {
   "cell_type": "code",
   "execution_count": 16,
   "metadata": {},
   "outputs": [],
   "source": [
    "def answer_twelve():\n",
    "    \n",
    "    Top15_12 = answer_one()\n",
    "    Reduction = pd.cut(np.array(Top15_12['% Renewable']), bins=5)\n",
    "    Reduction = pd.Series(Reduction, index=Top15_12.index)\n",
    "    ContinentDict  = {'China':'Asia',\n",
    "                      'United States':'North America',\n",
    "                      'Japan':'Asia',\n",
    "                      'United Kingdom':'Europe',\n",
    "                      'Russian Federation':'Europe',\n",
    "                      'Canada':'North America',\n",
    "                      'Germany':'Europe',\n",
    "                      'India':'Asia',\n",
    "                      'France':'Europe',\n",
    "                      'South Korea':'Asia',\n",
    "                      'Italy':'Europe',\n",
    "                      'Spain':'Europe',\n",
    "                      'Iran':'Asia',\n",
    "                      'Australia':'Australia',\n",
    "                      'Brazil':'South America'}\n",
    "    ContinentDict = pd.Series(ContinentDict)\n",
    "    Top15_12['Continent'] = str\n",
    "    Top15_12['Reduction'] = Reduction\n",
    "    \n",
    "    for country in ContinentDict.index :\n",
    "        Top15_12.at[country, 'Continent'] = ContinentDict[country]\n",
    "    \n",
    "    Top15_12 = Top15_12[['Continent', 'Reduction']]\n",
    "    answer12 = pd.Series(Top15_12.groupby(['Continent', 'Reduction']).size()) \n",
    "    answer12 = answer12.replace(0, pd.np.nan).dropna(axis=0, how='any').fillna(0).astype(int)\n",
    "    return answer12"
   ]
  },
  {
   "cell_type": "markdown",
   "metadata": {},
   "source": [
    "### Question 13 (6.6%)\n",
    "Convert the Population Estimate series to a string with thousands separator (using commas). Do not round the results.\n",
    "\n",
    "e.g. 317615384.61538464 -> 317,615,384.61538464\n",
    "\n",
    "*This function should return a Series `PopEst` whose index is the country name and whose values are the population estimate string.*"
   ]
  },
  {
   "cell_type": "code",
   "execution_count": 17,
   "metadata": {
    "jupyter": {
     "outputs_hidden": false
    },
    "scrolled": true
   },
   "outputs": [],
   "source": [
    "def answer_thirteen():\n",
    "    \n",
    "    Top15_13 = answer_one()\n",
    "    Top15_13['Est. Population'] = (Top15_13['Energy Supply'] / Top15_13['Energy Supply per Capita'])\n",
    "    Top15_13 = Top15_13[['Est. Population']]\n",
    "    Top15_13['Est. Population'] = Top15_13['Est. Population'].apply(lambda x : '{0:,}'.format(x))\n",
    "    PopEst = pd.Series(str, index=Top15_13.index)\n",
    "    \n",
    "    for country in PopEst.index :\n",
    "        PopEst[country] = Top15_13.loc[country]['Est. Population']\n",
    "    \n",
    "    answer13 = PopEst\n",
    "    return answer13"
   ]
  },
  {
   "cell_type": "markdown",
   "metadata": {},
   "source": [
    "### Optional\n",
    "\n",
    "Use the built in function `plot_optional()` to see an example visualization."
   ]
  },
  {
   "cell_type": "code",
   "execution_count": 18,
   "metadata": {
    "jupyter": {
     "outputs_hidden": false
    },
    "scrolled": true
   },
   "outputs": [],
   "source": [
    "def plot_optional():\n",
    "    import matplotlib as plt\n",
    "    %matplotlib inline\n",
    "    Top15 = answer_one()\n",
    "    ax = Top15.plot(x='Rank', y='% Renewable', kind='scatter', \n",
    "                    c=['#e41a1c','#377eb8','#e41a1c','#4daf4a','#4daf4a','#377eb8','#4daf4a','#e41a1c',\n",
    "                       '#4daf4a','#e41a1c','#4daf4a','#4daf4a','#e41a1c','#dede00','#ff7f00'], \n",
    "                    xticks=range(1,16), s=6*Top15['2014']/10**10, alpha=.75, figsize=[16,6]);\n",
    "\n",
    "    for i, txt in enumerate(Top15.index):\n",
    "        ax.annotate(txt, [Top15['Rank'][i], Top15['% Renewable'][i]], ha='center')\n",
    "\n",
    "    print(\"This is an example of a visualization that can be created to help understand the data. \\\n",
    "This is a bubble chart showing % Renewable vs. Rank. The size of the bubble corresponds to the countries' \\\n",
    "2014 GDP, and the color corresponds to the continent.\")"
   ]
  },
  {
   "cell_type": "code",
   "execution_count": 19,
   "metadata": {
    "jupyter": {
     "outputs_hidden": false
    }
   },
   "outputs": [],
   "source": [
    "#plot_optional() # Be sure to comment out plot_optional() before submitting the assignment!"
   ]
  }
 ],
 "metadata": {
  "anaconda-cloud": {},
  "coursera": {
   "course_slug": "python-data-analysis",
   "graded_item_id": "zAr06",
   "launcher_item_id": "KSSjT",
   "part_id": "SL3fU"
  },
  "kernelspec": {
   "display_name": "Python 3.7.6 64-bit ('base': conda)",
   "language": "python",
   "name": "python37664bitbasecondac2fa38a2dafc450183878d49e5f2f552"
  },
  "language_info": {
   "codemirror_mode": {
    "name": "ipython",
    "version": 3
   },
   "file_extension": ".py",
   "mimetype": "text/x-python",
   "name": "python",
   "nbconvert_exporter": "python",
   "pygments_lexer": "ipython3",
   "version": "3.7.6-final"
  }
 },
 "nbformat": 4,
 "nbformat_minor": 4
}